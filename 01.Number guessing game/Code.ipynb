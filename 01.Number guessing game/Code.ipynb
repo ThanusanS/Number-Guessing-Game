{
 "cells": [
  {
   "cell_type": "markdown",
   "id": "90bbca18-ae2a-4239-9bca-7aa9ff989924",
   "metadata": {},
   "source": [
    "# Number Guessing Game\n",
    "## Leval 1. Print if the user guessed number is right or not "
   ]
  },
  {
   "cell_type": "code",
   "execution_count": null,
   "id": "2f4e28fd-8c10-45c1-8847-c52850e1d49d",
   "metadata": {},
   "outputs": [],
   "source": []
  },
  {
   "cell_type": "code",
   "execution_count": 21,
   "id": "907ada28-12a7-432c-9b1b-1249b3b98c50",
   "metadata": {},
   "outputs": [
    {
     "name": "stdin",
     "output_type": "stream",
     "text": [
      "Enter your guess: 55\n"
     ]
    },
    {
     "name": "stdout",
     "output_type": "stream",
     "text": [
      "Congradulations! your guess is right!\n"
     ]
    }
   ],
   "source": [
    "Secret_number = 55\n",
    "\n",
    "user_input = int(input(\"Enter your guess:\"))\n",
    "\n",
    "if Secret_number == user_input:\n",
    "    print(\"Congradulations! your guess is right!\")\n",
    "else:\n",
    "    print(\"Sorry, Your guess is wrong\")\n"
   ]
  },
  {
   "cell_type": "markdown",
   "id": "9e045ea2-9f64-4b9a-a9ef-586c54046f50",
   "metadata": {},
   "source": [
    "## Leval 2. Print if the user guessed number is right or not but with max of 7 trials"
   ]
  },
  {
   "cell_type": "markdown",
   "id": "194a34ab-1e8c-41be-86e7-c6240b000cbf",
   "metadata": {},
   "source": [
    "#### 2.1 Using For Loop - end interation number is defined"
   ]
  },
  {
   "cell_type": "code",
   "execution_count": 33,
   "id": "e1b7ed13-fe7a-44f8-b820-969f28969fb8",
   "metadata": {},
   "outputs": [
    {
     "name": "stdin",
     "output_type": "stream",
     "text": [
      "Enter your guess: 77\n"
     ]
    },
    {
     "name": "stdout",
     "output_type": "stream",
     "text": [
      "Sorry, Your guess is wrong\n"
     ]
    },
    {
     "name": "stdin",
     "output_type": "stream",
     "text": [
      "Enter your guess: 9889\n"
     ]
    },
    {
     "name": "stdout",
     "output_type": "stream",
     "text": [
      "Sorry, Your guess is wrong\n"
     ]
    },
    {
     "name": "stdin",
     "output_type": "stream",
     "text": [
      "Enter your guess: 44\n"
     ]
    },
    {
     "name": "stdout",
     "output_type": "stream",
     "text": [
      "Sorry, Your guess is wrong\n"
     ]
    },
    {
     "name": "stdin",
     "output_type": "stream",
     "text": [
      "Enter your guess: 55\n"
     ]
    },
    {
     "name": "stdout",
     "output_type": "stream",
     "text": [
      "Congradulations! your guess is right!\n"
     ]
    }
   ],
   "source": [
    "Secret_number = 55\n",
    "\n",
    "for i in range(0,7):\n",
    "   user_input = int(input(\"Enter your guess:\"))\n",
    "    \n",
    "   if Secret_number == user_input:\n",
    "    print(\"Congradulations! your guess is right!\")\n",
    "    break\n",
    "   else:\n",
    "    print(\"Sorry, Your guess is wrong\")\n"
   ]
  },
  {
   "cell_type": "markdown",
   "id": "66108b57-0c08-4b10-92e2-b64891b2f74e",
   "metadata": {},
   "source": [
    "#### 2.2 While Loop - When end number is not defined and the instructions has to executed infinite times"
   ]
  },
  {
   "cell_type": "code",
   "execution_count": 40,
   "id": "aa34aa8a-0673-4f88-bd82-1e30cd3cde91",
   "metadata": {},
   "outputs": [
    {
     "name": "stdin",
     "output_type": "stream",
     "text": [
      "Enter your guess: 654\n"
     ]
    },
    {
     "name": "stdout",
     "output_type": "stream",
     "text": [
      "Sorry, Your guess is wrong\n"
     ]
    },
    {
     "name": "stdin",
     "output_type": "stream",
     "text": [
      "Enter your guess: 4\n"
     ]
    },
    {
     "name": "stdout",
     "output_type": "stream",
     "text": [
      "Sorry, Your guess is wrong\n"
     ]
    },
    {
     "name": "stdin",
     "output_type": "stream",
     "text": [
      "Enter your guess: 33\n"
     ]
    },
    {
     "name": "stdout",
     "output_type": "stream",
     "text": [
      "Sorry, Your guess is wrong\n"
     ]
    },
    {
     "name": "stdin",
     "output_type": "stream",
     "text": [
      "Enter your guess: 3\n"
     ]
    },
    {
     "name": "stdout",
     "output_type": "stream",
     "text": [
      "Sorry, Your guess is wrong\n"
     ]
    },
    {
     "name": "stdin",
     "output_type": "stream",
     "text": [
      "Enter your guess: 3\n"
     ]
    },
    {
     "name": "stdout",
     "output_type": "stream",
     "text": [
      "Sorry, Your guess is wrong\n"
     ]
    },
    {
     "name": "stdin",
     "output_type": "stream",
     "text": [
      "Enter your guess: 3\n"
     ]
    },
    {
     "name": "stdout",
     "output_type": "stream",
     "text": [
      "Sorry, Your guess is wrong\n"
     ]
    },
    {
     "name": "stdin",
     "output_type": "stream",
     "text": [
      "Enter your guess: 56\n"
     ]
    },
    {
     "name": "stdout",
     "output_type": "stream",
     "text": [
      "Sorry, Your guess is wrong\n"
     ]
    },
    {
     "name": "stdin",
     "output_type": "stream",
     "text": [
      "Enter your guess: 55\n"
     ]
    },
    {
     "name": "stdout",
     "output_type": "stream",
     "text": [
      "Congradulations! your guess is right!\n"
     ]
    }
   ],
   "source": [
    "Secret_number = 55\n",
    "\n",
    "while True:\n",
    "   user_input = int(input(\"Enter your guess:\"))\n",
    "    \n",
    "   if Secret_number == user_input:\n",
    "    print(\"Congradulations! your guess is right!\")\n",
    "    break\n",
    "\n",
    "   else:\n",
    "    print(\"Sorry, Your guess is wrong\")\n"
   ]
  },
  {
   "cell_type": "markdown",
   "id": "f162fb61-5341-4c73-a12a-872dcaa94110",
   "metadata": {},
   "source": [
    "## Level 3: Give Multipile Conditions\n",
    "\n",
    "##### 1.User should enter the number between 1-100.if it's entered wrong,the program should say, Inalid Number\"\n",
    "##### 2.if the user guessed number > secret number,then program should say,\"Your number is greater than the secret number\"\n",
    "##### 3.if the user guessed number < secret number,then program should say,\"Your number is lesser than the secret number\"\n"
   ]
  },
  {
   "cell_type": "code",
   "execution_count": 51,
   "id": "34860106-40ef-4733-9668-d6fc3667b5c3",
   "metadata": {},
   "outputs": [
    {
     "name": "stdout",
     "output_type": "stream",
     "text": [
      "Welcome to Number Guessing Game!!!! \n",
      "Guess the Number between 1 to 100 \n"
     ]
    },
    {
     "name": "stdin",
     "output_type": "stream",
     "text": [
      "Enter the Number: 56\n"
     ]
    },
    {
     "name": "stdout",
     "output_type": "stream",
     "text": [
      "Your Guessed Number is Correct!\n",
      "Congradulations, You have guessed the number 56 in 1 attempts\n"
     ]
    }
   ],
   "source": [
    "print(\"Welcome to Number Guessing Game!!!! \")\n",
    "print(\"Guess the Number between 1 to 100 \")\n",
    "\n",
    "secret_number= 56\n",
    "\n",
    "for i in range(1,8):\n",
    "    user_input = int(input(\"Enter the Number:\"))\n",
    "    if user_input <1 or user_input >100:\n",
    "        print(\"Invalid Number! Please enter the Number between 1-100\")\n",
    "    elif user_input > secret_number:\n",
    "        print(\"Your Number is higher!\")\n",
    "    elif user_input <  secret_number:\n",
    "        print(\"Your Number is Lesser!\")\n",
    "    else:\n",
    "        print(\"Your Guessed Number is Correct!\")\n",
    "        print(f\"Congradulations, You have guessed the number {secret_number} in {i} attempts\")\n",
    "        break\n",
    "    \n"
   ]
  },
  {
   "cell_type": "markdown",
   "id": "fffabfec-72c9-448b-8e94-8aff7901f9fc",
   "metadata": {},
   "source": [
    "## Level 4: Setting Multipile Conditions"
   ]
  },
  {
   "cell_type": "code",
   "execution_count": 53,
   "id": "ee26d3a6-50c3-419d-8ac1-92f3e513fa65",
   "metadata": {},
   "outputs": [
    {
     "name": "stdout",
     "output_type": "stream",
     "text": [
      "Welcome to Number Guessing Game!!!! \n",
      "Guess the Number between 1 to 100 \n"
     ]
    },
    {
     "name": "stdin",
     "output_type": "stream",
     "text": [
      "Enter the Number: 888\n"
     ]
    },
    {
     "name": "stdout",
     "output_type": "stream",
     "text": [
      "Invalid Number! Please enter the Number between 1-100\n"
     ]
    },
    {
     "name": "stdin",
     "output_type": "stream",
     "text": [
      "Enter the Number: 77\n"
     ]
    },
    {
     "name": "stdout",
     "output_type": "stream",
     "text": [
      "Your Number is higher!\n"
     ]
    },
    {
     "name": "stdin",
     "output_type": "stream",
     "text": [
      "Enter the Number: 40\n"
     ]
    },
    {
     "name": "stdout",
     "output_type": "stream",
     "text": [
      "Your Number is Lesser!\n"
     ]
    },
    {
     "name": "stdin",
     "output_type": "stream",
     "text": [
      "Enter the Number: 56\n"
     ]
    },
    {
     "name": "stdout",
     "output_type": "stream",
     "text": [
      "Your Guessed Number is Correct!\n",
      "Congradulations, You have guessed the number 56 in 4 attempts\n"
     ]
    }
   ],
   "source": [
    "print(\"Welcome to Number Guessing Game!!!! \")\n",
    "print(\"Guess the Number between 1 to 100 \")\n",
    "\n",
    "secret_number= 56\n",
    "\n",
    "for i in range(1,8):\n",
    "    user_input = int(input(\"Enter the Number:\"))\n",
    "    if user_input <1 or user_input >100:\n",
    "        print(\"Invalid Number! Please enter the Number between 1-100\")\n",
    "    elif user_input > secret_number:\n",
    "        print(\"Your Number is higher!\")\n",
    "    elif user_input <  secret_number:\n",
    "        print(\"Your Number is Lesser!\")\n",
    "    else:\n",
    "        print(\"Your Guessed Number is Correct!\")\n",
    "        break\n",
    "\n",
    "if secret_number == user_input :\n",
    "    print(f\"Congradulations, You have guessed the number {secret_number} in {i} attempts\")\n",
    "else:\n",
    "    print(\"Sorry! All your trials is exceeded. Try Again!!\")\n"
   ]
  },
  {
   "cell_type": "markdown",
   "id": "590d4638-3f82-495c-bb64-a0c0ef7ea93e",
   "metadata": {},
   "source": [
    "## Level 5: The secret Number should'nt be fixed. It should be random"
   ]
  },
  {
   "cell_type": "code",
   "execution_count": null,
   "id": "514910a6-e3c0-48e8-84da-0c2ea7e66f88",
   "metadata": {},
   "outputs": [
    {
     "name": "stdout",
     "output_type": "stream",
     "text": [
      "Welcome to Number Guessing Game!!!! \n",
      "Guess the Number between 1 to 100 \n"
     ]
    }
   ],
   "source": [
    "import random\n",
    "\n",
    "print(\"Welcome to Number Guessing Game!!!! \")\n",
    "print(\"Guess the Number between 1 to 100 \")\n",
    "\n",
    "secret_number=random.randint(1,100)\n",
    "\n",
    "for i in range(1,8):\n",
    "    user_input = int(input(\"Enter the Number:\"))\n",
    "    if user_input <1 or user_input >100:\n",
    "        print(\"Invalid Number! Please enter the Number between 1-100\")\n",
    "    elif user_input > secret_number:\n",
    "        print(\"Your Number is higher!\")\n",
    "    elif user_input <  secret_number:\n",
    "        print(\"Your Number is Lesser!\")\n",
    "    else:\n",
    "        print(\"Your Guessed Number is Correct!\")\n",
    "        break\n",
    "        \n",
    "\n",
    "if secret_number == user_input :\n",
    "    print(f\"Congradulations, You have guessed the number {secret_number} in {i} attempts\")\n",
    "else:\n",
    "    print(\"Sorry! All your trials is exceeded. Try Again!!\")\n"
   ]
  },
  {
   "cell_type": "markdown",
   "id": "48ccfad4-b25d-4d96-bec1-4fd8ac98043d",
   "metadata": {},
   "source": [
    "#### 5.2 Take out the limits for try"
   ]
  },
  {
   "cell_type": "code",
   "execution_count": 89,
   "id": "ba0c9e8f-1fba-415a-873d-417ce7d86b23",
   "metadata": {},
   "outputs": [
    {
     "name": "stdout",
     "output_type": "stream",
     "text": [
      "Welcome to Number Guessing Game!!!! \n",
      "Guess the Number between 1 to 100 \n"
     ]
    },
    {
     "name": "stdin",
     "output_type": "stream",
     "text": [
      "Enter the Number: hhj\n"
     ]
    },
    {
     "ename": "ValueError",
     "evalue": "invalid literal for int() with base 10: 'hhj'",
     "output_type": "error",
     "traceback": [
      "\u001b[1;31m---------------------------------------------------------------------------\u001b[0m",
      "\u001b[1;31mValueError\u001b[0m                                Traceback (most recent call last)",
      "Cell \u001b[1;32mIn[89], line 9\u001b[0m\n\u001b[0;32m      6\u001b[0m secret_number\u001b[38;5;241m=\u001b[39mrandom\u001b[38;5;241m.\u001b[39mrandint(\u001b[38;5;241m1\u001b[39m,\u001b[38;5;241m100\u001b[39m)\n\u001b[0;32m      8\u001b[0m \u001b[38;5;28;01mwhile\u001b[39;00m \u001b[38;5;28;01mTrue\u001b[39;00m:\n\u001b[1;32m----> 9\u001b[0m    user_input \u001b[38;5;241m=\u001b[39m \u001b[38;5;28;43mint\u001b[39;49m\u001b[43m(\u001b[49m\u001b[38;5;28;43minput\u001b[39;49m\u001b[43m(\u001b[49m\u001b[38;5;124;43m\"\u001b[39;49m\u001b[38;5;124;43mEnter the Number:\u001b[39;49m\u001b[38;5;124;43m\"\u001b[39;49m\u001b[43m)\u001b[49m\u001b[43m)\u001b[49m\n\u001b[0;32m     10\u001b[0m    \u001b[38;5;28;01mif\u001b[39;00m user_input \u001b[38;5;241m<\u001b[39m\u001b[38;5;241m1\u001b[39m \u001b[38;5;129;01mor\u001b[39;00m user_input \u001b[38;5;241m>\u001b[39m\u001b[38;5;241m100\u001b[39m:\n\u001b[0;32m     11\u001b[0m        \u001b[38;5;28mprint\u001b[39m(\u001b[38;5;124m\"\u001b[39m\u001b[38;5;124mInvalid Number! Please enter the Number between 1-100\u001b[39m\u001b[38;5;124m\"\u001b[39m)\n",
      "\u001b[1;31mValueError\u001b[0m: invalid literal for int() with base 10: 'hhj'"
     ]
    }
   ],
   "source": [
    "import random\n",
    "\n",
    "print(\"Welcome to Number Guessing Game!!!! \")\n",
    "print(\"Guess the Number between 1 to 100 \")\n",
    "\n",
    "secret_number=random.randint(1,100)\n",
    "\n",
    "while True:\n",
    "    user_input = int(input(\"Enter the Number:\"))\n",
    "    if user_input <1 or user_input >100:\n",
    "        print(\"Invalid Number! Please enter the Number between 1-100\")\n",
    "    elif user_input > secret_number:\n",
    "        print(\"Your Number is higher!\")\n",
    "    elif user_input <  secret_number:\n",
    "        print(\"Your Number is Lesser!\")\n",
    "    else:\n",
    "        print(\"Your Guessed Number is Correct!\")\n",
    "        break\n",
    "\n"
   ]
  },
  {
   "cell_type": "markdown",
   "id": "6af088ae-47f3-438c-b15a-09ef90f822f9",
   "metadata": {},
   "source": [
    "## Level 6  - How to handle invalid Characters or Values"
   ]
  },
  {
   "cell_type": "code",
   "execution_count": 91,
   "id": "79f92e3a-7081-4eab-bcd6-0006bcfaa109",
   "metadata": {},
   "outputs": [
    {
     "name": "stdout",
     "output_type": "stream",
     "text": [
      "Welcome to Number Guessing Game!!!! \n",
      "Guess the Number between 1 to 100 \n"
     ]
    },
    {
     "name": "stdin",
     "output_type": "stream",
     "text": [
      "Enter the Number: 90\n"
     ]
    },
    {
     "name": "stdout",
     "output_type": "stream",
     "text": [
      "Your Number is higher!\n"
     ]
    },
    {
     "name": "stdin",
     "output_type": "stream",
     "text": [
      "Enter the Number: 50\n"
     ]
    },
    {
     "name": "stdout",
     "output_type": "stream",
     "text": [
      "Your Number is Lesser!\n"
     ]
    },
    {
     "name": "stdin",
     "output_type": "stream",
     "text": [
      "Enter the Number: 60\n"
     ]
    },
    {
     "name": "stdout",
     "output_type": "stream",
     "text": [
      "Your Number is Lesser!\n"
     ]
    },
    {
     "name": "stdin",
     "output_type": "stream",
     "text": [
      "Enter the Number: 70\n"
     ]
    },
    {
     "name": "stdout",
     "output_type": "stream",
     "text": [
      "Your Number is Lesser!\n"
     ]
    },
    {
     "name": "stdin",
     "output_type": "stream",
     "text": [
      "Enter the Number: 80\n"
     ]
    },
    {
     "name": "stdout",
     "output_type": "stream",
     "text": [
      "Your Number is Lesser!\n"
     ]
    },
    {
     "name": "stdin",
     "output_type": "stream",
     "text": [
      "Enter the Number: 81\n"
     ]
    },
    {
     "name": "stdout",
     "output_type": "stream",
     "text": [
      "Your Number is Lesser!\n"
     ]
    },
    {
     "name": "stdin",
     "output_type": "stream",
     "text": [
      "Enter the Number: 85\n"
     ]
    },
    {
     "name": "stdout",
     "output_type": "stream",
     "text": [
      "Your Number is higher!\n",
      "Sorry! All your trials is exceeded. Try Again!!\n"
     ]
    }
   ],
   "source": [
    "import random\n",
    "\n",
    "print(\"Welcome to Number Guessing Game!!!! \")\n",
    "print(\"Guess the Number between 1 to 100 \")\n",
    "\n",
    "secret_number=random.randint(1,100)\n",
    "\n",
    "for i in range(1,8):\n",
    "    try:\n",
    "        user_input = int(input(\"Enter the Number:\"))\n",
    "        if user_input <1 or user_input >100:\n",
    "            print(\"Invalid Number! Please enter the Number between 1-100\")\n",
    "        elif user_input > secret_number:\n",
    "            print(\"Your Number is higher!\")\n",
    "        elif user_input < secret_number:\n",
    "            print(\"Your Number is Lesser!\")\n",
    "        else:\n",
    "            print(\"Your Guessed Number is Correct!\")\n",
    "            break\n",
    "\n",
    "    except ValueError:\n",
    "        print(\"Invalid Characters, Not Recognized. Please enter the Number between 1-100 to play this game \")\n",
    "\n",
    "if secret_number == user_input :\n",
    "    print(f\"Congradulations, You have guessed the number {secret_number} in {i} attempts\")\n",
    "else:\n",
    "    print(\"Sorry! All your trials is exceeded. Try Again!!\")\n"
   ]
  },
  {
   "cell_type": "code",
   "execution_count": 92,
   "id": "4d139038-c56e-4992-a65b-b7565f1ac466",
   "metadata": {},
   "outputs": [
    {
     "data": {
      "text/plain": [
       "83"
      ]
     },
     "execution_count": 92,
     "metadata": {},
     "output_type": "execute_result"
    }
   ],
   "source": [
    "secret_number\n"
   ]
  },
  {
   "cell_type": "markdown",
   "id": "a4df585c-49c2-4518-a556-32bcf6d96d7c",
   "metadata": {},
   "source": [
    "## Level 7 - Take this program to run as a function when it is called\n",
    "Step 1: Define a function \n",
    "\n",
    "Step 2: Call the function"
   ]
  },
  {
   "cell_type": "code",
   "execution_count": 8,
   "id": "a2a2a3d8-bd57-42d9-82d7-c44c87cc4a10",
   "metadata": {},
   "outputs": [
    {
     "name": "stdout",
     "output_type": "stream",
     "text": [
      "Welcome to Number Guessing Game!!!! \n",
      "Guess the Number between 1 to 100 \n"
     ]
    },
    {
     "name": "stdin",
     "output_type": "stream",
     "text": [
      "Enter the Number: 22\n"
     ]
    },
    {
     "name": "stdout",
     "output_type": "stream",
     "text": [
      "Your Number is Lesser!\n"
     ]
    },
    {
     "name": "stdin",
     "output_type": "stream",
     "text": [
      "Enter the Number: 70\n"
     ]
    },
    {
     "name": "stdout",
     "output_type": "stream",
     "text": [
      "Your Number is higher!\n"
     ]
    },
    {
     "name": "stdin",
     "output_type": "stream",
     "text": [
      "Enter the Number: 40\n"
     ]
    },
    {
     "name": "stdout",
     "output_type": "stream",
     "text": [
      "Your Number is Lesser!\n"
     ]
    },
    {
     "name": "stdin",
     "output_type": "stream",
     "text": [
      "Enter the Number: 50\n"
     ]
    },
    {
     "name": "stdout",
     "output_type": "stream",
     "text": [
      "Your Number is Lesser!\n"
     ]
    },
    {
     "name": "stdin",
     "output_type": "stream",
     "text": [
      "Enter the Number: 60\n"
     ]
    },
    {
     "name": "stdout",
     "output_type": "stream",
     "text": [
      "Your Number is Lesser!\n"
     ]
    },
    {
     "name": "stdin",
     "output_type": "stream",
     "text": [
      "Enter the Number: 65\n"
     ]
    },
    {
     "name": "stdout",
     "output_type": "stream",
     "text": [
      "Your Guessed Number is Correct!\n",
      "Congradulations, You have guessed the number 65 in 6 attempts\n"
     ]
    }
   ],
   "source": [
    "def number_guessing_game():\n",
    "\n",
    "        import random\n",
    "        \n",
    "        print(\"Welcome to Number Guessing Game!!!! \")\n",
    "        print(\"Guess the Number between 1 to 100 \")\n",
    "        \n",
    "        secret_number=random.randint(1,100)\n",
    "        \n",
    "        for i in range(1,8):\n",
    "            try:\n",
    "                user_input = int(input(\"Enter the Number:\"))\n",
    "                if user_input <1 or user_input >100:\n",
    "                    print(\"Invalid Number! Please enter the Number between 1-100\")\n",
    "                elif user_input > secret_number:\n",
    "                    print(\"Your Number is higher!\")\n",
    "                elif user_input < secret_number:\n",
    "                    print(\"Your Number is Lesser!\")\n",
    "                else:\n",
    "                    print(\"Your Guessed Number is Correct!\")\n",
    "                    break\n",
    "        \n",
    "            except ValueError:\n",
    "                print(\"Invalid Characters, Not Recognized. Please enter the Number between 1-100 to play this game \")\n",
    "        \n",
    "        if secret_number == user_input :\n",
    "            print(f\"Congradulations, You have guessed the number {secret_number} in {i} attempts\")\n",
    "        else:\n",
    "            print(\"Sorry! All your trials is exceeded. Try Again!!\")\n",
    "\n",
    "\n",
    "number_guessing_game()"
   ]
  },
  {
   "cell_type": "code",
   "execution_count": null,
   "id": "8468920a-1751-4a6e-86a1-c1c43accaf0c",
   "metadata": {},
   "outputs": [],
   "source": []
  }
 ],
 "metadata": {
  "kernelspec": {
   "display_name": "Python 3 (ipykernel)",
   "language": "python",
   "name": "python3"
  },
  "language_info": {
   "codemirror_mode": {
    "name": "ipython",
    "version": 3
   },
   "file_extension": ".py",
   "mimetype": "text/x-python",
   "name": "python",
   "nbconvert_exporter": "python",
   "pygments_lexer": "ipython3",
   "version": "3.12.4"
  }
 },
 "nbformat": 4,
 "nbformat_minor": 5
}
